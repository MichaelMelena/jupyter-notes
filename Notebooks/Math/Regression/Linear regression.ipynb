{
 "cells": [
  {
   "cell_type": "markdown",
   "id": "91f9fcf7",
   "metadata": {},
   "source": [
    "# Linearní regrese\n",
    "\n",
    "$$\n",
    "a_0 = \\frac{1}{2}\\sum_{i=1}^n{(y_i- \\frac{a_1}{n})} \\sum_{i=1}^n{x_i}\n",
    "$$\n",
    "\n",
    "\n",
    "$\\overline{y}$ je průměr všech $y_i$\n",
    "\n",
    "$$\n",
    "a_1 = \\frac{\\sum_{i=1}^{n}{(y_i - \\overline{y})}}{\\sum_{i=1}^{n}{(x_i - \\overline{x})}}\n",
    "$$"
   ]
  },
  {
   "cell_type": "code",
   "execution_count": 135,
   "metadata": {},
   "outputs": [],
   "source": [
    "import numpy as np\n",
    "from matplotlib import pyplot as plt\n",
    "from typing import List"
   ]
  },
  {
   "cell_type": "code",
   "execution_count": 151,
   "metadata": {},
   "outputs": [
    {
     "name": "stdout",
     "output_type": "stream",
     "text": [
      "a1: -0.19520547945205483\n",
      "a0: 4.982876712328768\n"
     ]
    },
    {
     "data": {
      "image/png": "[encoded data removed]",
      "text/plain": [
       "<Figure size 432x288 with 1 Axes>"
      ]
     },
     "metadata": {
      "needs_background": "light"
     },
     "output_type": "display_data"
    }
   ],
   "source": [
    "\n",
    "\n",
    "x = np.array([1, 2, 6, 4, 8, 3, 1])\n",
    "y = np.array([2, 3, 9, 0, 1, 7, 8])\n",
    "n = len(x)\n",
    "plot_x = list(range(n))\n",
    "\n",
    "mean_x = np.mean(x)\n",
    "mean_y = np.mean(y)\n",
    "\n",
    "variance_x = np.mean(x**2) - np.mean(x)**2\n",
    "variance_y = np.mean(y**2) - np.mean(y)**2\n",
    "\n",
    "covariance_x_y = np.sum((x-mean_x) * (y-mean_y)) / n\n",
    "\n",
    "a1=covariance_x_y / variance_x\n",
    "a0 = mean_y - a1 *  mean_x\n",
    "\n",
    "prediction_x = np.linspace(-0,10,100)\n",
    "\n",
    "plt.figure()\n",
    "plt.scatter(x,y)\n",
    "\n",
    "plt.plot(prediction_x, prediction_x*a1 + a0 , '-r')\n",
    "\n",
    "print(\"a1:\",a1)\n",
    "print(\"a0:\", a0)"
   ]
  },
  {
   "cell_type": "markdown",
   "metadata": {},
   "source": [
    "## Střední hodnota\n",
    "\n",
    "$$\n",
    "\\overline{X} = \\frac{\\sum{x_i}}{n} \n",
    "$$\n"
   ]
  },
  {
   "cell_type": "code",
   "execution_count": 152,
   "metadata": {},
   "outputs": [
    {
     "name": "stdout",
     "output_type": "stream",
     "text": [
      "np vs manual střední hodnoty X: 0.000000e+00\n",
      "np vs manual střední hodnoty Y: 0.000000e+00\n"
     ]
    }
   ],
   "source": [
    "def manual_mean(vector):\n",
    "    return sum(vector) / len(vector)\n",
    "\n",
    "mean_x_manual = manual_mean(x.tolist())\n",
    "mean_y_manual = manual_mean(y.tolist())\n",
    "\n",
    "print(f\"np vs manual střední hodnoty X: {mean_x - mean_x_manual:e}\")\n",
    "print(f\"np vs manual střední hodnoty Y: {mean_y - mean_y_manual:e}\")"
   ]
  },
  {
   "cell_type": "code",
   "execution_count": 147,
   "metadata": {},
   "outputs": [
    {
     "name": "stdout",
     "output_type": "stream",
     "text": [
      "střední hodnota X: 3.5714285714285716\n",
      "střední hodnota Y: 4.285714285714286\n"
     ]
    },
    {
     "data": {
      "image/png": "[encoded data removed]",
      "text/plain": [
       "<Figure size 720x288 with 2 Axes>"
      ]
     },
     "metadata": {
      "needs_background": "light"
     },
     "output_type": "display_data"
    }
   ],
   "source": [
    "plt.figure(figsize=(10,4))\n",
    "plt.suptitle(\"Střední hodnoty\")\n",
    "\n",
    "plt.subplot(1,2, 1)\n",
    "plt.title(\"Hodnoty X\")\n",
    "plt.bar(range(len(x)),x)\n",
    "plt.plot([mean_x for i in plot_x] ,'-r', label=\"Střední hodnota X\")\n",
    "plt.legend()\n",
    "\n",
    "plt.subplot(1,2,2)\n",
    "plt.title(\"Hodnoty Y\")\n",
    "plt.bar(range(len(y)),y)\n",
    "plt.plot([mean_y for i in plot_x] ,'-r', label=\"Střední hodnota Y\")\n",
    "plt.legend()\n",
    "\n",
    "print(f\"střední hodnota X: {mean_x}\")\n",
    "print(f\"střední hodnota Y: {mean_y}\")"
   ]
  },
  {
   "cell_type": "markdown",
   "metadata": {},
   "source": [
    "## Variance\n",
    "$$\n",
    "var(X) = E(X^2) - E(X)^2\n",
    "$$"
   ]
  },
  {
   "cell_type": "code",
   "execution_count": 155,
   "metadata": {},
   "outputs": [
    {
     "name": "stdout",
     "output_type": "stream",
     "text": [
      "np vs manual variance X: 0.000000e+00\n",
      "np vs manual variance Y: 0.000000e+00\n"
     ]
    }
   ],
   "source": [
    "def manual_variance(vector):\n",
    "    vector_pow_2 = [value**2 for value in vector]\n",
    "    return manual_mean(vector_pow_2) - manual_mean(vector) ** 2\n",
    "\n",
    "deviation_x = np.sqrt(variance_x)\n",
    "deviation_y = np.sqrt(variance_y)\n",
    "\n",
    "variance_x_manual = manual_variance(x.tolist())\n",
    "variance_y_manual = manual_variance(y.tolist())\n",
    "\n",
    "print(f\"np vs manual variance X: {variance_x - variance_x_manual:e}\")\n",
    "print(f\"np vs manual variance Y: {variance_y - variance_y_manual:e}\")"
   ]
  },
  {
   "cell_type": "code",
   "execution_count": 185,
   "metadata": {},
   "outputs": [
    {
     "name": "stdout",
     "output_type": "stream",
     "text": [
      "Variance X: 5.959183673469388\n",
      "Variance Y: 11.346938775510207\n"
     ]
    },
    {
     "data": {
      "image/png": "[encoded data removed]",
      "text/plain": [
       "<Figure size 720x288 with 2 Axes>"
      ]
     },
     "metadata": {
      "needs_background": "light"
     },
     "output_type": "display_data"
    }
   ],
   "source": [
    "plt.figure(figsize=(10,4))\n",
    "plt.suptitle(\"Variance\")\n",
    "\n",
    "\n",
    "\n",
    "plt.subplot(1,2, 1)\n",
    "plt.title(\"Hodnoty X\")\n",
    "plt.bar(range(len(x)),x)\n",
    "\n",
    "plt.plot([mean_x for i in plot_x] ,'-r', label=\"Střední hodnota X\", linewidth=3)\n",
    " \n",
    "plt.plot([mean_x + deviation_x for i in plot_x] ,'-g', label=\"E(X) + deviation X\", linewidth=3)\n",
    "plt.plot([mean_x - deviation_x for i in plot_x] ,'-y', label=\"E(X) - deviation X\", linewidth=3)\n",
    "\n",
    "rectangle = plt.Rectangle((0,mean_x-deviation_x),n-1, mean_x+deviation_x-1, color=\"red\",alpha=0.2)\n",
    "ax =  plt.gca()\n",
    "ax.add_patch(rectangle)\n",
    "\n",
    "plt.legend()\n",
    "\n",
    "plt.subplot(1,2,2)\n",
    "plt.title(\"Hodnoty Y\")\n",
    "plt.bar(range(len(y)),y)\n",
    "plt.plot([variance_y - deviation_y for i in plot_x] ,'-g', label=\"Střední hodnota Y\")\n",
    "plt.legend()\n",
    "\n",
    "print(f\"Variance X: {variance_x}\")\n",
    "print(f\"Variance Y: {variance_y}\")\n",
    "plt.show()"
   ]
  },
  {
   "cell_type": "markdown",
   "metadata": {},
   "source": [
    "### Spočítání parametrů bez použití numpy"
   ]
  },
  {
   "cell_type": "code",
   "execution_count": 139,
   "metadata": {},
   "outputs": [
    {
     "name": "stdout",
     "output_type": "stream",
     "text": [
      "a1 manual: -0.19520547945205483\n",
      "a0 manual: 4.982876712328768\n",
      "a0 chyba oproti numpy: 0.000000e+00\n",
      "a1 chyba oproti numpy 0.000000e+00\n"
     ]
    }
   ],
   "source": [
    "def manual_mean(vector):\n",
    "    return sum(vector) / len(vector)\n",
    "\n",
    "\n",
    "def manual_covariance(vector_x, vector_y):\n",
    "    x_mean = manual_mean(vector_x)\n",
    "    y_mean = manual_mean(vector_y)\n",
    "    n = len(vector_x)\n",
    "\n",
    "    vector_x_minus_x_mean = [value - x_mean for value in vector_x]\n",
    "    vector_y_minus_y_mean = [value - y_mean for value in vector_y]\n",
    "\n",
    "    x_y_multiply = [vector_x_minus_x_mean[i] *\n",
    "                    vector_y_minus_y_mean[i] for i in range(n)]\n",
    "\n",
    "    xy_sum = sum(x_y_multiply) / n\n",
    "    return xy_sum\n",
    "\n",
    "a1_manual = manual_covariance(x, y) / manual_variance(x)\n",
    "a0_manual = manual_mean(y) - a1_manual * manual_mean(x)\n",
    "\n",
    "print(\"a1 manual:\", a1_manual)\n",
    "print(\"a0 manual:\", a0_manual)\n",
    "\n",
    "print(f\"a0 chyba oproti numpy: {a0 - a0_manual:e}\")\n",
    "print(f\"a1 chyba oproti numpy {a1 - a1_manual:e}\")"
   ]
  },
  {
   "cell_type": "markdown",
   "metadata": {},
   "source": [
    "## Kovariance\n",
    "\n",
    "$$\n",
    "cov(X,Y) = \\frac{\\sum_{i=0}^{n}{(X_i - \\overline{X})(Y_i-\\overline{Y})}}{n}\n",
    "$$"
   ]
  },
  {
   "cell_type": "markdown",
   "metadata": {},
   "source": [
    "## Parametry\n",
    "Můžeme to postupně zjednodušit do tvaru\n",
    "\n",
    "$$\n",
    "a_1 = \\frac{cov(X,Y)}{var(X)}\n",
    "$$\n",
    "\n",
    "$$\n",
    "a_0 = \\overline{Y} - a_1\\overline{X}\n",
    "$$"
   ]
  }
 ],
 "metadata": {
  "language_info": {
   "name": "python"
  },
  "orig_nbformat": 4
 },
 "nbformat": 4,
 "nbformat_minor": 2
}
